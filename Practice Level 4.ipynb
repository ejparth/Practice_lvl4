{
 "cells": [
  {
   "cell_type": "markdown",
   "id": "4407ca71",
   "metadata": {},
   "source": [
    "#### Add a new key-value pair to an existing dictionary."
   ]
  },
  {
   "cell_type": "code",
   "execution_count": 27,
   "id": "e4e48d3c",
   "metadata": {},
   "outputs": [],
   "source": [
    "my_dict = {\n",
    "   \"Student1\":{\n",
    "       \n",
    "    \"name\" : \"Aakash\",\n",
    "    \"age\" : 23,\n",
    "    \"address\" : \"Alambagh\"\n",
    "   },\n",
    "\n",
    "    \"student2\" :{\n",
    "        \"name\" : \"Smriti\",\n",
    "        \"age\" : 21,\n",
    "        \"address\" : \"MI\"\n",
    "    }\n",
    "    \n",
    "\n",
    "}"
   ]
  },
  {
   "cell_type": "code",
   "execution_count": 28,
   "id": "b89723e4",
   "metadata": {},
   "outputs": [
    {
     "name": "stdout",
     "output_type": "stream",
     "text": [
      "Student1 {'name': 'Aakash', 'age': 23, 'address': 'Alambagh', 'Country': 'India'}\n",
      "student2 {'name': 'Smriti', 'age': 21, 'address': 'MI'}\n"
     ]
    }
   ],
   "source": [
    "for i in dict:\n",
    "    value = dict[i]\n",
    "    print(i, value)"
   ]
  },
  {
   "cell_type": "code",
   "execution_count": 29,
   "id": "94e1f09e",
   "metadata": {},
   "outputs": [
    {
     "name": "stdout",
     "output_type": "stream",
     "text": [
      "Student1 {'name': 'Aakash', 'age': 23, 'address': 'Alambagh', 'Country': 'India'}\n",
      "student2 {'name': 'Smriti', 'age': 21, 'address': 'MI'}\n"
     ]
    }
   ],
   "source": [
    "for key, value in dict.items():\n",
    "    print(key, value)"
   ]
  },
  {
   "cell_type": "code",
   "execution_count": 30,
   "id": "a07850f1",
   "metadata": {},
   "outputs": [],
   "source": [
    "my_dict[\"Student1\"][\"Country\"] = \"India\""
   ]
  },
  {
   "cell_type": "code",
   "execution_count": 31,
   "id": "bfc087ea",
   "metadata": {},
   "outputs": [
    {
     "name": "stdout",
     "output_type": "stream",
     "text": [
      "Student1 {'name': 'Aakash', 'age': 23, 'address': 'Alambagh', 'Country': 'India'}\n",
      "student2 {'name': 'Smriti', 'age': 21, 'address': 'MI'}\n"
     ]
    }
   ],
   "source": [
    "for key, value in dict.items():\n",
    "    print(key, value)"
   ]
  },
  {
   "cell_type": "code",
   "execution_count": 32,
   "id": "17b563a1",
   "metadata": {},
   "outputs": [],
   "source": [
    "my_dict[\"student3\"] = {\n",
    "    \"name\": \"John\",\n",
    "    \"age\": 22,\n",
    "    \"address\": \"Downtown\"\n",
    "}"
   ]
  },
  {
   "cell_type": "code",
   "execution_count": 33,
   "id": "6f777447",
   "metadata": {},
   "outputs": [
    {
     "name": "stdout",
     "output_type": "stream",
     "text": [
      "Student1 {'name': 'Aakash', 'age': 23, 'address': 'Alambagh', 'Country': 'India'}\n",
      "student2 {'name': 'Smriti', 'age': 21, 'address': 'MI'}\n",
      "student3 {'name': 'John', 'age': 22, 'address': 'Downtown'}\n"
     ]
    }
   ],
   "source": [
    "for key, value in my_dict.items():\n",
    "    print(key, value)"
   ]
  },
  {
   "cell_type": "markdown",
   "id": "2e90332a",
   "metadata": {},
   "source": [
    "#### Given two dictionaries, merge them into a single dictionary"
   ]
  },
  {
   "cell_type": "code",
   "execution_count": 38,
   "id": "5d85e4ae",
   "metadata": {},
   "outputs": [
    {
     "name": "stdout",
     "output_type": "stream",
     "text": [
      "{'a': 1, 'b': 2, 'c': 3, 'd': 4}\n"
     ]
    }
   ],
   "source": [
    "## Method 1 : using update method\n",
    "\n",
    "dict_A = {\n",
    "    \"a\" : 1,\n",
    "    \"b\" : 2\n",
    "}\n",
    "\n",
    "dict_B = {\n",
    "    \"c\" : 3,\n",
    "    \"d\" : 4\n",
    "}\n",
    "\n",
    "dict_A.update(dict_B)\n",
    "print(dict_A)"
   ]
  },
  {
   "cell_type": "code",
   "execution_count": 39,
   "id": "5b950a30",
   "metadata": {},
   "outputs": [
    {
     "name": "stdout",
     "output_type": "stream",
     "text": [
      "{'a': 1, 'b': 2, 'c': 3, 'd': 4}\n"
     ]
    }
   ],
   "source": [
    "## Method 2 : Dictionary unpacking\n",
    "\n",
    "merged_dict = {**dict_A, **dict_B}\n",
    "print(merged_dict)"
   ]
  },
  {
   "cell_type": "markdown",
   "id": "0ed7487a",
   "metadata": {},
   "source": [
    "#### Implement a function that removes a key-value pair from a dictionary"
   ]
  },
  {
   "cell_type": "code",
   "execution_count": 41,
   "id": "7e1fd3c7",
   "metadata": {},
   "outputs": [
    {
     "name": "stdout",
     "output_type": "stream",
     "text": [
      "{'b': 2, 'c': 3, 'd': 4}\n"
     ]
    }
   ],
   "source": [
    "if \"a\" in merged_dict:\n",
    "    del merged_dict[\"a\"]\n",
    "\n",
    "print(merged_dict)"
   ]
  },
  {
   "cell_type": "code",
   "execution_count": 42,
   "id": "55b46bab",
   "metadata": {},
   "outputs": [
    {
     "name": "stdout",
     "output_type": "stream",
     "text": [
      "{'c': 3, 'd': 4}\n"
     ]
    }
   ],
   "source": [
    "##  none to avoid errors of b is not present\n",
    "merged_dict.pop(\"b\", None)\n",
    "print(merged_dict)"
   ]
  },
  {
   "cell_type": "markdown",
   "id": "0258e687",
   "metadata": {},
   "source": [
    "#### Write a Python program that counts the number of occurrences of each character in a given string using a dictionary"
   ]
  },
  {
   "cell_type": "code",
   "execution_count": 49,
   "id": "056f334a",
   "metadata": {},
   "outputs": [
    {
     "name": "stdout",
     "output_type": "stream",
     "text": [
      "{'Hi': 2, 'Aakash,': 1, 'is': 1, 'name': 1, 'my': 1}\n"
     ]
    }
   ],
   "source": [
    "string = \"Hi my name is Aakash, Hi\"\n",
    "modified_string = string.split()\n",
    "\n",
    "key = (set(modified_string))\n",
    "\n",
    "dict_words = dict.fromkeys(key, 0)\n",
    "\n",
    "for char in modified_string:\n",
    "    dict_words[char] += 1\n",
    "\n",
    "print(dict_words)"
   ]
  },
  {
   "cell_type": "markdown",
   "id": "d05c8a70",
   "metadata": {},
   "source": [
    "####  Write a program that finds the most frequent element in a dict and list"
   ]
  },
  {
   "cell_type": "code",
   "execution_count": 64,
   "id": "f4cfa6ce",
   "metadata": {},
   "outputs": [
    {
     "name": "stdout",
     "output_type": "stream",
     "text": [
      "Most occuring key and it's value is : Hi => 2\n"
     ]
    }
   ],
   "source": [
    "num = 0\n",
    "\n",
    "for key in dict_words:\n",
    "    if dict_words[key] > num:\n",
    "           keys, num =  (key, dict_words[key])\n",
    "\n",
    "print(\"Most occuring key and it's value is :\", keys,\"=>\",num)\n",
    "        "
   ]
  },
  {
   "cell_type": "code",
   "execution_count": 68,
   "id": "3f4811d6",
   "metadata": {},
   "outputs": [
    {
     "ename": "TypeError",
     "evalue": "'<' not supported between instances of 'dict' and 'int'",
     "output_type": "error",
     "traceback": [
      "\u001b[1;31m---------------------------------------------------------------------------\u001b[0m",
      "\u001b[1;31mTypeError\u001b[0m                                 Traceback (most recent call last)",
      "Input \u001b[1;32mIn [68]\u001b[0m, in \u001b[0;36m<cell line: 13>\u001b[1;34m()\u001b[0m\n\u001b[0;32m     11\u001b[0m max_num \u001b[38;5;241m=\u001b[39m \u001b[38;5;241m0\u001b[39m\n\u001b[0;32m     13\u001b[0m \u001b[38;5;28;01mfor\u001b[39;00m i \u001b[38;5;129;01min\u001b[39;00m dict_lst_A:\n\u001b[1;32m---> 14\u001b[0m     \u001b[38;5;28;01mif\u001b[39;00m \u001b[43mmax_num\u001b[49m\u001b[43m \u001b[49m\u001b[38;5;241;43m<\u001b[39;49m\u001b[43m \u001b[49m\u001b[43mdict_lst_A\u001b[49m\u001b[43m[\u001b[49m\u001b[43mi\u001b[49m\u001b[43m]\u001b[49m:\n\u001b[0;32m     15\u001b[0m         keys, max_num \u001b[38;5;241m=\u001b[39m key, dict_lst_A\n\u001b[0;32m     17\u001b[0m \u001b[38;5;28mprint\u001b[39m(\u001b[38;5;124m\"\u001b[39m\u001b[38;5;124mMost occuring element and it\u001b[39m\u001b[38;5;124m'\u001b[39m\u001b[38;5;124ms value is :\u001b[39m\u001b[38;5;124m\"\u001b[39m, keys,\u001b[38;5;124m\"\u001b[39m\u001b[38;5;124m=>\u001b[39m\u001b[38;5;124m\"\u001b[39m,num, \u001b[38;5;124m\"\u001b[39m\u001b[38;5;124mtimes.\u001b[39m\u001b[38;5;124m\"\u001b[39m)\n",
      "\u001b[1;31mTypeError\u001b[0m: '<' not supported between instances of 'dict' and 'int'"
     ]
    }
   ],
   "source": [
    "lst_A = [\"I\", \"I\", \"Apple\", \"Mangoes\", \"Mangoes\", \"Mangoes\"]\n",
    "unique_words = set(lst_A)\n",
    "\n",
    "dict_lst_A = dict.fromkeys(unique_words, 0)\n",
    "\n",
    "for char in lst_A:\n",
    "    dict_lst_A[char] += 1\n",
    "\n",
    "## Finding most frequent element\n",
    "\n",
    "max_num = 0\n",
    "\n",
    "for i in dict_lst_A:\n",
    "    if max_num < dict_lst_A[i]:\n",
    "        keys, max_num = key, dict_lst_A\n",
    "\n",
    "print(\"Most occuring element and it's value is :\", keys,\"=>\",num, \"times.\")"
   ]
  },
  {
   "cell_type": "code",
   "execution_count": 69,
   "id": "10941ad4",
   "metadata": {},
   "outputs": [
    {
     "ename": "KeyError",
     "evalue": "2",
     "output_type": "error",
     "traceback": [
      "\u001b[1;31m---------------------------------------------------------------------------\u001b[0m",
      "\u001b[1;31mKeyError\u001b[0m                                  Traceback (most recent call last)",
      "Input \u001b[1;32mIn [69]\u001b[0m, in \u001b[0;36m<cell line: 1>\u001b[1;34m()\u001b[0m\n\u001b[1;32m----> 1\u001b[0m \u001b[38;5;28mprint\u001b[39m(\u001b[43mdict_lst_A\u001b[49m\u001b[43m[\u001b[49m\u001b[38;5;241;43m2\u001b[39;49m\u001b[43m]\u001b[49m)\n",
      "\u001b[1;31mKeyError\u001b[0m: 2"
     ]
    }
   ],
   "source": [
    "print(dict_lst_A[2])"
   ]
  },
  {
   "cell_type": "code",
   "execution_count": null,
   "id": "2d2e71f7",
   "metadata": {},
   "outputs": [],
   "source": []
  }
 ],
 "metadata": {
  "kernelspec": {
   "display_name": "Python 3 (ipykernel)",
   "language": "python",
   "name": "python3"
  },
  "language_info": {
   "codemirror_mode": {
    "name": "ipython",
    "version": 3
   },
   "file_extension": ".py",
   "mimetype": "text/x-python",
   "name": "python",
   "nbconvert_exporter": "python",
   "pygments_lexer": "ipython3",
   "version": "3.9.12"
  }
 },
 "nbformat": 4,
 "nbformat_minor": 5
}
