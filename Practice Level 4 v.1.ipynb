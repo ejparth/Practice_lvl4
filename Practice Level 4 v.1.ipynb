{
 "cells": [
  {
   "cell_type": "markdown",
   "id": "e359926d",
   "metadata": {},
   "source": [
    "#### Add a new key-value pair to an existing dictionary."
   ]
  },
  {
   "cell_type": "code",
   "execution_count": 27,
   "id": "2f1bae3b",
   "metadata": {},
   "outputs": [],
   "source": [
    "my_dict = {\n",
    "   \"Student1\":{\n",
    "       \n",
    "    \"name\" : \"Aakash\",\n",
    "    \"age\" : 23,\n",
    "    \"address\" : \"Alambagh\"\n",
    "   },\n",
    "\n",
    "    \"student2\" :{\n",
    "        \"name\" : \"Smriti\",\n",
    "        \"age\" : 21,\n",
    "        \"address\" : \"MI\"\n",
    "    }\n",
    "    \n",
    "\n",
    "}"
   ]
  },
  {
   "cell_type": "code",
   "execution_count": 28,
   "id": "67421f25",
   "metadata": {},
   "outputs": [
    {
     "name": "stdout",
     "output_type": "stream",
     "text": [
      "Student1 {'name': 'Aakash', 'age': 23, 'address': 'Alambagh', 'Country': 'India'}\n",
      "student2 {'name': 'Smriti', 'age': 21, 'address': 'MI'}\n"
     ]
    }
   ],
   "source": [
    "for i in dict:\n",
    "    value = dict[i]\n",
    "    print(i, value)"
   ]
  },
  {
   "cell_type": "code",
   "execution_count": 29,
   "id": "06011fd8",
   "metadata": {},
   "outputs": [
    {
     "name": "stdout",
     "output_type": "stream",
     "text": [
      "Student1 {'name': 'Aakash', 'age': 23, 'address': 'Alambagh', 'Country': 'India'}\n",
      "student2 {'name': 'Smriti', 'age': 21, 'address': 'MI'}\n"
     ]
    }
   ],
   "source": [
    "for key, value in dict.items():\n",
    "    print(key, value)"
   ]
  },
  {
   "cell_type": "code",
   "execution_count": 30,
   "id": "f0613800",
   "metadata": {},
   "outputs": [],
   "source": [
    "my_dict[\"Student1\"][\"Country\"] = \"India\""
   ]
  },
  {
   "cell_type": "code",
   "execution_count": 31,
   "id": "7d15839f",
   "metadata": {},
   "outputs": [
    {
     "name": "stdout",
     "output_type": "stream",
     "text": [
      "Student1 {'name': 'Aakash', 'age': 23, 'address': 'Alambagh', 'Country': 'India'}\n",
      "student2 {'name': 'Smriti', 'age': 21, 'address': 'MI'}\n"
     ]
    }
   ],
   "source": [
    "for key, value in dict.items():\n",
    "    print(key, value)"
   ]
  },
  {
   "cell_type": "code",
   "execution_count": 32,
   "id": "5160f828",
   "metadata": {},
   "outputs": [],
   "source": [
    "my_dict[\"student3\"] = {\n",
    "    \"name\": \"John\",\n",
    "    \"age\": 22,\n",
    "    \"address\": \"Downtown\"\n",
    "}"
   ]
  },
  {
   "cell_type": "code",
   "execution_count": 33,
   "id": "e7db1b49",
   "metadata": {},
   "outputs": [
    {
     "name": "stdout",
     "output_type": "stream",
     "text": [
      "Student1 {'name': 'Aakash', 'age': 23, 'address': 'Alambagh', 'Country': 'India'}\n",
      "student2 {'name': 'Smriti', 'age': 21, 'address': 'MI'}\n",
      "student3 {'name': 'John', 'age': 22, 'address': 'Downtown'}\n"
     ]
    }
   ],
   "source": [
    "for key, value in my_dict.items():\n",
    "    print(key, value)"
   ]
  },
  {
   "cell_type": "markdown",
   "id": "e57a69c7",
   "metadata": {},
   "source": [
    "#### Given two dictionaries, merge them into a single dictionary"
   ]
  },
  {
   "cell_type": "code",
   "execution_count": 38,
   "id": "f3046d81",
   "metadata": {},
   "outputs": [
    {
     "name": "stdout",
     "output_type": "stream",
     "text": [
      "{'a': 1, 'b': 2, 'c': 3, 'd': 4}\n"
     ]
    }
   ],
   "source": [
    "## Method 1 : using update method\n",
    "\n",
    "dict_A = {\n",
    "    \"a\" : 1,\n",
    "    \"b\" : 2\n",
    "}\n",
    "\n",
    "dict_B = {\n",
    "    \"c\" : 3,\n",
    "    \"d\" : 4\n",
    "}\n",
    "\n",
    "dict_A.update(dict_B)\n",
    "print(dict_A)"
   ]
  },
  {
   "cell_type": "code",
   "execution_count": 39,
   "id": "6ccace0c",
   "metadata": {},
   "outputs": [
    {
     "name": "stdout",
     "output_type": "stream",
     "text": [
      "{'a': 1, 'b': 2, 'c': 3, 'd': 4}\n"
     ]
    }
   ],
   "source": [
    "## Method 2 : Dictionary unpacking\n",
    "\n",
    "merged_dict = {**dict_A, **dict_B}\n",
    "print(merged_dict)"
   ]
  },
  {
   "cell_type": "markdown",
   "id": "fe7e1b97",
   "metadata": {},
   "source": [
    "#### Implement a function that removes a key-value pair from a dictionary"
   ]
  },
  {
   "cell_type": "code",
   "execution_count": 41,
   "id": "a7a257e1",
   "metadata": {},
   "outputs": [
    {
     "name": "stdout",
     "output_type": "stream",
     "text": [
      "{'b': 2, 'c': 3, 'd': 4}\n"
     ]
    }
   ],
   "source": [
    "if \"a\" in merged_dict:\n",
    "    del merged_dict[\"a\"]\n",
    "\n",
    "print(merged_dict)"
   ]
  },
  {
   "cell_type": "code",
   "execution_count": 42,
   "id": "1a550d82",
   "metadata": {},
   "outputs": [
    {
     "name": "stdout",
     "output_type": "stream",
     "text": [
      "{'c': 3, 'd': 4}\n"
     ]
    }
   ],
   "source": [
    "##  none to avoid errors of b is not present\n",
    "merged_dict.pop(\"b\", None)\n",
    "print(merged_dict)"
   ]
  },
  {
   "cell_type": "markdown",
   "id": "92e37edf",
   "metadata": {},
   "source": [
    "#### Write a Python program that counts the number of occurrences of each character in a given string using a dictionary"
   ]
  },
  {
   "cell_type": "code",
   "execution_count": 49,
   "id": "a25e309f",
   "metadata": {},
   "outputs": [
    {
     "name": "stdout",
     "output_type": "stream",
     "text": [
      "{'Hi': 2, 'Aakash,': 1, 'is': 1, 'name': 1, 'my': 1}\n"
     ]
    }
   ],
   "source": [
    "string = \"Hi my name is Aakash, Hi\"\n",
    "modified_string = string.split()\n",
    "\n",
    "key = (set(modified_string))\n",
    "\n",
    "dict_words = dict.fromkeys(key, 0)\n",
    "\n",
    "for char in modified_string:\n",
    "    dict_words[char] += 1\n",
    "\n",
    "print(dict_words)"
   ]
  },
  {
   "cell_type": "markdown",
   "id": "e12c90e5",
   "metadata": {},
   "source": [
    "####  Write a program that finds the most frequent element in a dict and list"
   ]
  },
  {
   "cell_type": "code",
   "execution_count": 64,
   "id": "8e347cb7",
   "metadata": {},
   "outputs": [
    {
     "name": "stdout",
     "output_type": "stream",
     "text": [
      "Most occuring key and it's value is : Hi => 2\n"
     ]
    }
   ],
   "source": [
    "num = 0\n",
    "\n",
    "for key in dict_words:\n",
    "    if dict_words[key] > num:\n",
    "           keys, num =  (key, dict_words[key])\n",
    "\n",
    "print(\"Most occuring key and it's value is :\", keys,\"=>\",num)\n",
    "        "
   ]
  },
  {
   "cell_type": "markdown",
   "id": "3c82b1d6",
   "metadata": {},
   "source": [
    "#### Write a program that finds the most frequent element in a list"
   ]
  },
  {
   "cell_type": "code",
   "execution_count": 80,
   "id": "2fe80d82",
   "metadata": {},
   "outputs": [
    {
     "name": "stdout",
     "output_type": "stream",
     "text": [
      "Most occuring element and it's value is : Mangoes => 3 times.\n"
     ]
    }
   ],
   "source": [
    "lst_A = [\"I\", \"I\", \"Apple\", \"Mangoes\", \"Mangoes\", \"Mangoes\",\"lays\",\"lays\"]\n",
    "\n",
    "def creat_dict(lst_a):\n",
    "    unique_words = set(lst_a)\n",
    "    dict_lst = dict.fromkeys(unique_words, 0)\n",
    "    return dict_lst\n",
    "\n",
    "def find_most_frequent(dict_lst_A):\n",
    "    for char in lst_A:\n",
    "        dict_lst_A[char] += 1\n",
    "\n",
    "    ## Finding most frequent element\n",
    "\n",
    "    max_num = 0\n",
    "\n",
    "    for i in dict_lst_A:\n",
    "        if max_num < dict_lst_A[i]:\n",
    "            key_most, max_num = i, dict_lst_A[i]\n",
    "\n",
    "    print(\"Most occuring element and it's value is :\", key_most,\"=>\",max_num, \"times.\")\n",
    "\n",
    "dict_lst_A = creat_dict(lst_A)\n",
    "find_most_frequent(dict_lst_A)"
   ]
  },
  {
   "cell_type": "markdown",
   "id": "703ba842",
   "metadata": {},
   "source": [
    "#### Write a program that finds the average value of all the elements in a list of dictionaries "
   ]
  },
  {
   "cell_type": "code",
   "execution_count": 110,
   "id": "adfd7fbd",
   "metadata": {},
   "outputs": [
    {
     "name": "stdout",
     "output_type": "stream",
     "text": [
      "Total sum is :  311  with total keys :  12  having average :  25.92\n"
     ]
    }
   ],
   "source": [
    "# List of dictionaries\n",
    "data = [\n",
    "    {\"value1\": 10, \"value2\": 20, \"value3\": 30},\n",
    "    {\"value1\": 15, \"value2\": 25, \"value3\": 35},\n",
    "    {\"value1\": 12, \"value2\": 22, \"value3\": 32},\n",
    "    {\"value1\": 32, \"value2\": 42, \"value3\": 36},\n",
    "]\n",
    "\n",
    "def sum_values(data):\n",
    "    sum_a =0\n",
    "    count = 0\n",
    "    for dictionary in data:\n",
    "        for key, value in dictionary.items():\n",
    "            sum_a += value\n",
    "            count += 1\n",
    "            \n",
    "    return sum_a, count\n",
    "        \n",
    "\n",
    "def find_average(final,count):\n",
    "    answer = 0\n",
    "    avg = round((final/count),2)\n",
    "    return avg\n",
    "    \n",
    "final, count = sum_values(data)\n",
    "avg = find_average(final,count) \n",
    "print(\"Total sum is : \",final,\" with total keys : \", count ,\" having average : \", avg)\n"
   ]
  },
  {
   "cell_type": "markdown",
   "id": "f364c2a5",
   "metadata": {},
   "source": [
    "####  Create a function that takes a list of dictionaries and sorts them based on a specified key"
   ]
  },
  {
   "cell_type": "code",
   "execution_count": null,
   "id": "dcd7c895",
   "metadata": {},
   "outputs": [],
   "source": []
  },
  {
   "cell_type": "code",
   "execution_count": null,
   "id": "c3f9db02",
   "metadata": {},
   "outputs": [],
   "source": []
  }
 ],
 "metadata": {
  "kernelspec": {
   "display_name": "Python 3 (ipykernel)",
   "language": "python",
   "name": "python3"
  },
  "language_info": {
   "codemirror_mode": {
    "name": "ipython",
    "version": 3
   },
   "file_extension": ".py",
   "mimetype": "text/x-python",
   "name": "python",
   "nbconvert_exporter": "python",
   "pygments_lexer": "ipython3",
   "version": "3.9.12"
  }
 },
 "nbformat": 4,
 "nbformat_minor": 5
}
